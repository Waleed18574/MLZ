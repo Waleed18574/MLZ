{
 "cells": [
  {
   "cell_type": "code",
   "execution_count": 1,
   "id": "9d459646",
   "metadata": {},
   "outputs": [],
   "source": [
    "import numpy\n",
    "import pandas as pd\n",
    "\n",
    "import matplotlib.pyplot as plt\n",
    "import seaborn as sns\n",
    "%matplotlib inline\n",
    "\n",
    "import warnings\n",
    "warnings.filterwarnings('ignore')"
   ]
  },
  {
   "cell_type": "markdown",
   "id": "93447a15",
   "metadata": {},
   "source": [
    "## Data Collection and Preparation"
   ]
  },
  {
   "cell_type": "code",
   "execution_count": 2,
   "id": "ee9b4e10",
   "metadata": {
    "scrolled": true
   },
   "outputs": [
    {
     "data": {
      "text/html": [
       "<div>\n",
       "<style scoped>\n",
       "    .dataframe tbody tr th:only-of-type {\n",
       "        vertical-align: middle;\n",
       "    }\n",
       "\n",
       "    .dataframe tbody tr th {\n",
       "        vertical-align: top;\n",
       "    }\n",
       "\n",
       "    .dataframe thead th {\n",
       "        text-align: right;\n",
       "    }\n",
       "</style>\n",
       "<table border=\"1\" class=\"dataframe\">\n",
       "  <thead>\n",
       "    <tr style=\"text-align: right;\">\n",
       "      <th></th>\n",
       "      <th>longitude</th>\n",
       "      <th>latitude</th>\n",
       "      <th>housing_median_age</th>\n",
       "      <th>total_rooms</th>\n",
       "      <th>total_bedrooms</th>\n",
       "      <th>population</th>\n",
       "      <th>households</th>\n",
       "      <th>median_income</th>\n",
       "      <th>median_house_value</th>\n",
       "      <th>ocean_proximity</th>\n",
       "    </tr>\n",
       "  </thead>\n",
       "  <tbody>\n",
       "    <tr>\n",
       "      <th>0</th>\n",
       "      <td>-122.23</td>\n",
       "      <td>37.88</td>\n",
       "      <td>41.0</td>\n",
       "      <td>880.0</td>\n",
       "      <td>129.0</td>\n",
       "      <td>322.0</td>\n",
       "      <td>126.0</td>\n",
       "      <td>8.3252</td>\n",
       "      <td>452600.0</td>\n",
       "      <td>NEAR BAY</td>\n",
       "    </tr>\n",
       "    <tr>\n",
       "      <th>1</th>\n",
       "      <td>-122.22</td>\n",
       "      <td>37.86</td>\n",
       "      <td>21.0</td>\n",
       "      <td>7099.0</td>\n",
       "      <td>1106.0</td>\n",
       "      <td>2401.0</td>\n",
       "      <td>1138.0</td>\n",
       "      <td>8.3014</td>\n",
       "      <td>358500.0</td>\n",
       "      <td>NEAR BAY</td>\n",
       "    </tr>\n",
       "    <tr>\n",
       "      <th>2</th>\n",
       "      <td>-122.24</td>\n",
       "      <td>37.85</td>\n",
       "      <td>52.0</td>\n",
       "      <td>1467.0</td>\n",
       "      <td>190.0</td>\n",
       "      <td>496.0</td>\n",
       "      <td>177.0</td>\n",
       "      <td>7.2574</td>\n",
       "      <td>352100.0</td>\n",
       "      <td>NEAR BAY</td>\n",
       "    </tr>\n",
       "    <tr>\n",
       "      <th>3</th>\n",
       "      <td>-122.25</td>\n",
       "      <td>37.85</td>\n",
       "      <td>52.0</td>\n",
       "      <td>1274.0</td>\n",
       "      <td>235.0</td>\n",
       "      <td>558.0</td>\n",
       "      <td>219.0</td>\n",
       "      <td>5.6431</td>\n",
       "      <td>341300.0</td>\n",
       "      <td>NEAR BAY</td>\n",
       "    </tr>\n",
       "    <tr>\n",
       "      <th>4</th>\n",
       "      <td>-122.25</td>\n",
       "      <td>37.85</td>\n",
       "      <td>52.0</td>\n",
       "      <td>1627.0</td>\n",
       "      <td>280.0</td>\n",
       "      <td>565.0</td>\n",
       "      <td>259.0</td>\n",
       "      <td>3.8462</td>\n",
       "      <td>342200.0</td>\n",
       "      <td>NEAR BAY</td>\n",
       "    </tr>\n",
       "  </tbody>\n",
       "</table>\n",
       "</div>"
      ],
      "text/plain": [
       "   longitude  latitude  housing_median_age  total_rooms  total_bedrooms  \\\n",
       "0    -122.23     37.88                41.0        880.0           129.0   \n",
       "1    -122.22     37.86                21.0       7099.0          1106.0   \n",
       "2    -122.24     37.85                52.0       1467.0           190.0   \n",
       "3    -122.25     37.85                52.0       1274.0           235.0   \n",
       "4    -122.25     37.85                52.0       1627.0           280.0   \n",
       "\n",
       "   population  households  median_income  median_house_value ocean_proximity  \n",
       "0       322.0       126.0         8.3252            452600.0        NEAR BAY  \n",
       "1      2401.0      1138.0         8.3014            358500.0        NEAR BAY  \n",
       "2       496.0       177.0         7.2574            352100.0        NEAR BAY  \n",
       "3       558.0       219.0         5.6431            341300.0        NEAR BAY  \n",
       "4       565.0       259.0         3.8462            342200.0        NEAR BAY  "
      ]
     },
     "execution_count": 2,
     "metadata": {},
     "output_type": "execute_result"
    }
   ],
   "source": [
    "# req_cols = ['latitiude','longitude','price','minimum_nights','number_of_reviews',\n",
    "#             'reviews_per_month','calculated_host_listing_count','availability_365']\n",
    "\n",
    "data = pd.read_csv('../data/housing.csv')\n",
    " \n",
    "data.head()"
   ]
  },
  {
   "cell_type": "code",
   "execution_count": 3,
   "id": "58d600c3",
   "metadata": {},
   "outputs": [
    {
     "data": {
      "text/plain": [
       "(20640, 10)"
      ]
     },
     "execution_count": 3,
     "metadata": {},
     "output_type": "execute_result"
    }
   ],
   "source": [
    "data.shape"
   ]
  },
  {
   "cell_type": "code",
   "execution_count": 4,
   "id": "741a15fe",
   "metadata": {
    "scrolled": false
   },
   "outputs": [
    {
     "name": "stdout",
     "output_type": "stream",
     "text": [
      "<class 'pandas.core.frame.DataFrame'>\n",
      "RangeIndex: 20640 entries, 0 to 20639\n",
      "Data columns (total 10 columns):\n",
      " #   Column              Non-Null Count  Dtype  \n",
      "---  ------              --------------  -----  \n",
      " 0   longitude           20640 non-null  float64\n",
      " 1   latitude            20640 non-null  float64\n",
      " 2   housing_median_age  20640 non-null  float64\n",
      " 3   total_rooms         20640 non-null  float64\n",
      " 4   total_bedrooms      20433 non-null  float64\n",
      " 5   population          20640 non-null  float64\n",
      " 6   households          20640 non-null  float64\n",
      " 7   median_income       20640 non-null  float64\n",
      " 8   median_house_value  20640 non-null  float64\n",
      " 9   ocean_proximity     20640 non-null  object \n",
      "dtypes: float64(9), object(1)\n",
      "memory usage: 1.6+ MB\n"
     ]
    }
   ],
   "source": [
    "data.info()"
   ]
  },
  {
   "cell_type": "code",
   "execution_count": 5,
   "id": "b39d67fe",
   "metadata": {},
   "outputs": [
    {
     "data": {
      "text/plain": [
       "['longitude',\n",
       " 'latitude',\n",
       " 'housing_median_age',\n",
       " 'total_rooms',\n",
       " 'total_bedrooms',\n",
       " 'population',\n",
       " 'households',\n",
       " 'median_income']"
      ]
     },
     "execution_count": 5,
     "metadata": {},
     "output_type": "execute_result"
    }
   ],
   "source": [
    "features = list(data.select_dtypes(['int64','float64']).columns)\n",
    "features = [col for col in features if col != 'median_house_value']\n",
    "features"
   ]
  },
  {
   "cell_type": "code",
   "execution_count": 6,
   "id": "60435af5",
   "metadata": {
    "scrolled": true
   },
   "outputs": [
    {
     "data": {
      "image/png": "[encoded data removed]",
      "text/plain": [
       "<Figure size 1008x720 with 8 Axes>"
      ]
     },
     "metadata": {
      "needs_background": "light"
     },
     "output_type": "display_data"
    }
   ],
   "source": [
    "fig = plt.figure(figsize=(14,10))\n",
    "ax = plt.gca()\n",
    "data.hist(bins=50, ax = ax, layout = (4,2), column=features)\n",
    "plt.tight_layout()\n",
    "plt.show()"
   ]
  },
  {
   "cell_type": "code",
   "execution_count": 7,
   "id": "5986092f",
   "metadata": {},
   "outputs": [
    {
     "data": {
      "image/png": "[encoded data removed]",
      "text/plain": [
       "<Figure size 720x288 with 1 Axes>"
      ]
     },
     "metadata": {
      "needs_background": "light"
     },
     "output_type": "display_data"
    }
   ],
   "source": [
    "data.median_house_value.hist(bins=50, figsize=(10,4))\n",
    "plt.title('Median House Values Distribution')\n",
    "plt.show()"
   ]
  },
  {
   "cell_type": "markdown",
   "id": "ff2e703c",
   "metadata": {},
   "source": [
    "## Q1\n",
    "Find a feature with missing values"
   ]
  },
  {
   "cell_type": "code",
   "execution_count": 8,
   "id": "2eb374f1",
   "metadata": {},
   "outputs": [
    {
     "data": {
      "text/plain": [
       "longitude               0\n",
       "latitude                0\n",
       "housing_median_age      0\n",
       "total_rooms             0\n",
       "total_bedrooms        207\n",
       "population              0\n",
       "households              0\n",
       "median_income           0\n",
       "median_house_value      0\n",
       "ocean_proximity         0\n",
       "dtype: int64"
      ]
     },
     "execution_count": 8,
     "metadata": {},
     "output_type": "execute_result"
    }
   ],
   "source": [
    "data.isna().sum()"
   ]
  },
  {
   "cell_type": "markdown",
   "id": "c4e5e669",
   "metadata": {},
   "source": [
    "## Q2\n",
    "What's the median (50% percential) for the variable 'population'?"
   ]
  },
  {
   "cell_type": "code",
   "execution_count": 9,
   "id": "37cb647b",
   "metadata": {},
   "outputs": [
    {
     "data": {
      "text/plain": [
       "1166.0"
      ]
     },
     "execution_count": 9,
     "metadata": {},
     "output_type": "execute_result"
    }
   ],
   "source": [
    "data.population.median()"
   ]
  },
  {
   "cell_type": "markdown",
   "id": "dd656367",
   "metadata": {},
   "source": [
    "## Split the data\n",
    "\n",
    "- Shuffle the initial dataset, use seed 42.\n",
    "- Split your data in train/val/test sets, with 60%/20%/20% distribution.\n",
    "- Make sure that the target value ('median_house_value') is not in your dataframe.\n",
    "- Apply the log transformation to the median_house_value variable using the numpy.log1p() function."
   ]
  },
  {
   "cell_type": "code",
   "execution_count": 10,
   "id": "cbe04d50",
   "metadata": {},
   "outputs": [],
   "source": [
    "k = len(data)\n",
    "k_val = int(0.2*k)\n",
    "k_test = int(0.2*k)\n",
    "k_train = k-(k_val+k_test)"
   ]
  },
  {
   "cell_type": "code",
   "execution_count": 11,
   "id": "003f9708",
   "metadata": {},
   "outputs": [],
   "source": [
    "idx = numpy.arange(k)\n",
    "numpy.random.seed(42)\n",
    "numpy.random.shuffle(idx)"
   ]
  },
  {
   "cell_type": "code",
   "execution_count": 12,
   "id": "ada33509",
   "metadata": {},
   "outputs": [],
   "source": [
    "df_train = data.iloc[idx[:k_train]]\n",
    "df_val = data.iloc[idx[k_train:k_train+k_val]]\n",
    "df_test = data.iloc[idx[k_train+k_val:]]"
   ]
  },
  {
   "cell_type": "code",
   "execution_count": 13,
   "id": "bcf6380f",
   "metadata": {},
   "outputs": [],
   "source": [
    "df_train = df_train.reset_index(drop=True)\n",
    "df_val = df_val.reset_index(drop=True)\n",
    "df_test = df_test.reset_index(drop=True)"
   ]
  },
  {
   "cell_type": "code",
   "execution_count": 14,
   "id": "e6c4de39",
   "metadata": {},
   "outputs": [],
   "source": [
    "y_train = numpy.log1p(df_train.median_house_value.values)\n",
    "y_val = numpy.log1p(df_val.median_house_value.values)\n",
    "y_test = numpy.log1p(df_test.median_house_value.values)"
   ]
  },
  {
   "cell_type": "code",
   "execution_count": 15,
   "id": "7d6985bc",
   "metadata": {},
   "outputs": [],
   "source": [
    "del df_train['median_house_value'], df_val['median_house_value'], df_test['median_house_value']"
   ]
  },
  {
   "cell_type": "markdown",
   "id": "8fcde98c",
   "metadata": {},
   "source": [
    "## Q3\n",
    "- You need to deal with missing values for the column from Q1.\n",
    "- You have two options: fill it with 0 or with the mean of this variable.\n",
    "- Try both options. For each, train a linear regression model without regularization using the code from the lessons.\n",
    "- For computing the mean, use the training only!\n",
    "- Use the validation dataset to evaluate the models and compare the RMSE of each option.\n",
    "- Round the RMSE scores to 2 decimal digits using round(score, 2)\n",
    "- Which option gives better RMSE?\n",
    "\n",
    "__Options__: \n",
    "- With 0\n",
    "- With mean\n",
    "- Both are equally good"
   ]
  },
  {
   "cell_type": "markdown",
   "id": "65652cb1",
   "metadata": {},
   "source": [
    "### With 0"
   ]
  },
  {
   "cell_type": "markdown",
   "id": "298e3a27",
   "metadata": {},
   "source": [
    "make sure that the missing values are in the df_train only"
   ]
  },
  {
   "cell_type": "code",
   "execution_count": 16,
   "id": "b5ab4586",
   "metadata": {},
   "outputs": [
    {
     "data": {
      "text/plain": [
       "207"
      ]
     },
     "execution_count": 16,
     "metadata": {},
     "output_type": "execute_result"
    }
   ],
   "source": [
    "df_train.total_bedrooms.isna().sum()"
   ]
  },
  {
   "cell_type": "code",
   "execution_count": 17,
   "id": "cea60a1f",
   "metadata": {},
   "outputs": [
    {
     "data": {
      "text/plain": [
       "0"
      ]
     },
     "execution_count": 17,
     "metadata": {},
     "output_type": "execute_result"
    }
   ],
   "source": [
    "df_val.total_bedrooms.isna().sum()"
   ]
  },
  {
   "cell_type": "code",
   "execution_count": 18,
   "id": "69d29cdf",
   "metadata": {},
   "outputs": [
    {
     "data": {
      "text/plain": [
       "0"
      ]
     },
     "execution_count": 18,
     "metadata": {},
     "output_type": "execute_result"
    }
   ],
   "source": [
    "df_test.total_bedrooms.isna().sum()"
   ]
  },
  {
   "cell_type": "code",
   "execution_count": 19,
   "id": "297b263b",
   "metadata": {},
   "outputs": [
    {
     "data": {
      "text/plain": [
       "['longitude',\n",
       " 'latitude',\n",
       " 'housing_median_age',\n",
       " 'total_rooms',\n",
       " 'total_bedrooms',\n",
       " 'population',\n",
       " 'households',\n",
       " 'median_income']"
      ]
     },
     "execution_count": 19,
     "metadata": {},
     "output_type": "execute_result"
    }
   ],
   "source": [
    "base = list(data.select_dtypes(['int64','float64']).columns)\n",
    "base = [col for col in base if col != 'median_house_value']\n",
    "base"
   ]
  },
  {
   "cell_type": "code",
   "execution_count": 20,
   "id": "798f9340",
   "metadata": {},
   "outputs": [],
   "source": [
    "def prepare_X_0(df):\n",
    "    df1 = df.copy()\n",
    "    features = base.copy()\n",
    "    \n",
    "#     for val in list(data.ocean_proximity.value_counts().index):\n",
    "#         df1[f'ocean_proxitmity_{val}'] = (df1.ocean_proximity == val).astype(int)\n",
    "#         features.append(f'ocean_proxitmity_{val}')\n",
    "        \n",
    "    df_num = df1[features]\n",
    "    df_num.total_bedrooms.fillna(0, inplace=True)\n",
    "    X = df_num.values\n",
    "\n",
    "    \n",
    "    return X"
   ]
  },
  {
   "cell_type": "code",
   "execution_count": 21,
   "id": "1c3ab1b6",
   "metadata": {},
   "outputs": [],
   "source": [
    "def train_linear_regression(X,y):\n",
    "    ones = numpy.ones(X.shape[0])\n",
    "    X = numpy.column_stack([ones,X])\n",
    "    \n",
    "    XTX = X.T.dot(X)\n",
    "    XTX_inv = numpy.linalg.inv(XTX)\n",
    "    w_full = XTX_inv.dot(X.T).dot(y)\n",
    "    \n",
    "    return w_full[0], w_full[1:]"
   ]
  },
  {
   "cell_type": "code",
   "execution_count": 22,
   "id": "e273d007",
   "metadata": {},
   "outputs": [],
   "source": [
    "def rmse(y, y_pred):\n",
    "    se = (y-y_pred)**2\n",
    "    mse = se.mean()\n",
    "    return numpy.sqrt(mse)"
   ]
  },
  {
   "cell_type": "code",
   "execution_count": 23,
   "id": "c6071ba5",
   "metadata": {},
   "outputs": [],
   "source": [
    "X_train_0 = prepare_X_0(df_train)"
   ]
  },
  {
   "cell_type": "code",
   "execution_count": 24,
   "id": "909f6f6a",
   "metadata": {},
   "outputs": [],
   "source": [
    "w0,w = train_linear_regression(X_train_0,y_train)"
   ]
  },
  {
   "cell_type": "code",
   "execution_count": 25,
   "id": "171e387a",
   "metadata": {},
   "outputs": [],
   "source": [
    "X_val = prepare_X_0(df_val)"
   ]
  },
  {
   "cell_type": "code",
   "execution_count": 26,
   "id": "bcda1a6a",
   "metadata": {},
   "outputs": [],
   "source": [
    "y_pred = w0 + X_val.dot(w)"
   ]
  },
  {
   "cell_type": "code",
   "execution_count": 27,
   "id": "9e01a6a7",
   "metadata": {},
   "outputs": [
    {
     "data": {
      "text/plain": [
       "0.3295330365223576"
      ]
     },
     "execution_count": 27,
     "metadata": {},
     "output_type": "execute_result"
    }
   ],
   "source": [
    "rmse(y_val, y_pred)"
   ]
  },
  {
   "cell_type": "markdown",
   "id": "d1ee5f83",
   "metadata": {},
   "source": [
    "### With mean"
   ]
  },
  {
   "cell_type": "code",
   "execution_count": 28,
   "id": "dab05c86",
   "metadata": {},
   "outputs": [],
   "source": [
    "def prepare_X_mean(df):\n",
    "    df1 = df.copy()\n",
    "    features = base.copy()\n",
    "    \n",
    "#     for val in list(data.ocean_proximity.value_counts().index):\n",
    "#         df1[f'ocean_proxitmity_{val}'] = (df1.ocean_proximity == val).astype(int)\n",
    "#         features.append(f'ocean_proxitmity_{val}')\n",
    "        \n",
    "    df_num = df1[features]\n",
    "    _mean = df_num.total_bedrooms.mean()\n",
    "    df_num.total_bedrooms.fillna(_mean, inplace=True)\n",
    "    X = df_num.values\n",
    "\n",
    "    return X"
   ]
  },
  {
   "cell_type": "code",
   "execution_count": 29,
   "id": "79b41cbc",
   "metadata": {},
   "outputs": [],
   "source": [
    "X_train_mean = prepare_X_mean(df_train)"
   ]
  },
  {
   "cell_type": "code",
   "execution_count": 30,
   "id": "b966e62c",
   "metadata": {},
   "outputs": [],
   "source": [
    "w0,w = train_linear_regression(X_train_mean,y_train)"
   ]
  },
  {
   "cell_type": "code",
   "execution_count": 31,
   "id": "132ff8a0",
   "metadata": {},
   "outputs": [],
   "source": [
    "X_val = prepare_X_mean(df_val)"
   ]
  },
  {
   "cell_type": "code",
   "execution_count": 32,
   "id": "c6f7dae5",
   "metadata": {},
   "outputs": [],
   "source": [
    "y_pred = w0 + X_val.dot(w)"
   ]
  },
  {
   "cell_type": "code",
   "execution_count": 33,
   "id": "db357923",
   "metadata": {},
   "outputs": [
    {
     "data": {
      "text/plain": [
       "0.32901954390052734"
      ]
     },
     "execution_count": 33,
     "metadata": {},
     "output_type": "execute_result"
    }
   ],
   "source": [
    "rmse(y_val, y_pred)"
   ]
  },
  {
   "cell_type": "code",
   "execution_count": 34,
   "id": "24b4b6a8",
   "metadata": {},
   "outputs": [
    {
     "data": {
      "text/plain": [
       "True"
      ]
     },
     "execution_count": 34,
     "metadata": {},
     "output_type": "execute_result"
    }
   ],
   "source": [
    "0.3295330365223576 > 0.32901954390052734"
   ]
  },
  {
   "cell_type": "markdown",
   "id": "fe493076",
   "metadata": {},
   "source": [
    "Filling the missing values with mean results in better rmse"
   ]
  },
  {
   "cell_type": "markdown",
   "id": "f2dc436a",
   "metadata": {},
   "source": [
    "## Q4\n",
    "- Now let's train a regularized linear regression.\n",
    "- For this question, fill the NAs with 0.\n",
    "- Try different values of r from this list: [0, 0.000001, 0.0001, 0.001, 0.01, 0.1, 1, 5, 10].\n",
    "- Use RMSE to evaluate the model on the validation dataset.\n",
    "- Round the RMSE scores to 2 decimal digits.\n",
    "- Which r gives the best RMSE?\n",
    "- If there are multiple options, select the smallest r.\n",
    "\n",
    "__Options__:\n",
    "\n",
    "- 0\n",
    "- 0.000001\n",
    "- 0.001\n",
    "- 0.0001"
   ]
  },
  {
   "cell_type": "code",
   "execution_count": 35,
   "id": "dea4cfb6",
   "metadata": {},
   "outputs": [],
   "source": [
    "def train_linear_regression_reg(X,y,r):\n",
    "    ones = numpy.ones(X.shape[0])\n",
    "    X = numpy.column_stack([ones,X])\n",
    "    \n",
    "    XTX = X.T.dot(X)\n",
    "    XTX = XTX + (r*numpy.eye(XTX.shape[0]))\n",
    "    \n",
    "    XTX_inv = numpy.linalg.inv(XTX)\n",
    "    w_full = XTX_inv.dot(X.T).dot(y)\n",
    "    \n",
    "    return w_full[0], w_full[1:]"
   ]
  },
  {
   "cell_type": "code",
   "execution_count": 36,
   "id": "6aed971f",
   "metadata": {},
   "outputs": [],
   "source": [
    "X_train = prepare_X_0(df_train)"
   ]
  },
  {
   "cell_type": "code",
   "execution_count": 37,
   "id": "e726b105",
   "metadata": {},
   "outputs": [],
   "source": [
    "X_val = prepare_X_0(df_val)"
   ]
  },
  {
   "cell_type": "code",
   "execution_count": 38,
   "id": "c78f1c68",
   "metadata": {
    "scrolled": true
   },
   "outputs": [
    {
     "name": "stdout",
     "output_type": "stream",
     "text": [
      "1e-06    -11.68695917591737    0.32953303616452034\n",
      "0.0001    -11.685368865007995    0.3295330009704729\n",
      "0.001    -11.670931317358162    0.32953270386742145\n",
      "0.01    -11.528493585578696    0.3295319365989487\n",
      "0.1    -10.274500281830704    0.3296947205398725\n",
      "0    -11.686975241364406    0.3295330365223576\n",
      "1    -4.920480897735419    0.33378872200043475\n",
      "5    -1.4820957456558748    0.33924853455032267\n",
      "10    -0.7899311832126873    0.3406063807809193\n"
     ]
    }
   ],
   "source": [
    "results = {'r':[],'w0':[],'rmse':[]}\n",
    "\n",
    "for r in [0.000001, 0.0001, 0.001, 0.01, 0.1, 0, 1, 5, 10]:\n",
    "    w0,w = train_linear_regression_reg(X_train,y_train,r)\n",
    "    y_pred = w0 + X_val.dot(w)\n",
    "    se = (y_val-y_pred)**2\n",
    "    mse = se.mean()\n",
    "    rmse = numpy.sqrt(mse)\n",
    "    \n",
    "    results['r'].append(r)\n",
    "    results['w0'].append(w0)\n",
    "    results['rmse'].append(rmse)\n",
    "    print(str(r),'  ',str(w0),'  ',str(rmse))"
   ]
  },
  {
   "cell_type": "code",
   "execution_count": 39,
   "id": "732aff70",
   "metadata": {},
   "outputs": [
    {
     "data": {
      "text/html": [
       "<div>\n",
       "<style scoped>\n",
       "    .dataframe tbody tr th:only-of-type {\n",
       "        vertical-align: middle;\n",
       "    }\n",
       "\n",
       "    .dataframe tbody tr th {\n",
       "        vertical-align: top;\n",
       "    }\n",
       "\n",
       "    .dataframe thead th {\n",
       "        text-align: right;\n",
       "    }\n",
       "</style>\n",
       "<table border=\"1\" class=\"dataframe\">\n",
       "  <thead>\n",
       "    <tr style=\"text-align: right;\">\n",
       "      <th></th>\n",
       "      <th>r</th>\n",
       "      <th>w0</th>\n",
       "      <th>rmse</th>\n",
       "    </tr>\n",
       "  </thead>\n",
       "  <tbody>\n",
       "    <tr>\n",
       "      <th>3</th>\n",
       "      <td>0.010000</td>\n",
       "      <td>-11.528494</td>\n",
       "      <td>0.329532</td>\n",
       "    </tr>\n",
       "    <tr>\n",
       "      <th>2</th>\n",
       "      <td>0.001000</td>\n",
       "      <td>-11.670931</td>\n",
       "      <td>0.329533</td>\n",
       "    </tr>\n",
       "    <tr>\n",
       "      <th>1</th>\n",
       "      <td>0.000100</td>\n",
       "      <td>-11.685369</td>\n",
       "      <td>0.329533</td>\n",
       "    </tr>\n",
       "    <tr>\n",
       "      <th>0</th>\n",
       "      <td>0.000001</td>\n",
       "      <td>-11.686959</td>\n",
       "      <td>0.329533</td>\n",
       "    </tr>\n",
       "    <tr>\n",
       "      <th>5</th>\n",
       "      <td>0.000000</td>\n",
       "      <td>-11.686975</td>\n",
       "      <td>0.329533</td>\n",
       "    </tr>\n",
       "    <tr>\n",
       "      <th>4</th>\n",
       "      <td>0.100000</td>\n",
       "      <td>-10.274500</td>\n",
       "      <td>0.329695</td>\n",
       "    </tr>\n",
       "    <tr>\n",
       "      <th>6</th>\n",
       "      <td>1.000000</td>\n",
       "      <td>-4.920481</td>\n",
       "      <td>0.333789</td>\n",
       "    </tr>\n",
       "    <tr>\n",
       "      <th>7</th>\n",
       "      <td>5.000000</td>\n",
       "      <td>-1.482096</td>\n",
       "      <td>0.339249</td>\n",
       "    </tr>\n",
       "    <tr>\n",
       "      <th>8</th>\n",
       "      <td>10.000000</td>\n",
       "      <td>-0.789931</td>\n",
       "      <td>0.340606</td>\n",
       "    </tr>\n",
       "  </tbody>\n",
       "</table>\n",
       "</div>"
      ],
      "text/plain": [
       "           r         w0      rmse\n",
       "3   0.010000 -11.528494  0.329532\n",
       "2   0.001000 -11.670931  0.329533\n",
       "1   0.000100 -11.685369  0.329533\n",
       "0   0.000001 -11.686959  0.329533\n",
       "5   0.000000 -11.686975  0.329533\n",
       "4   0.100000 -10.274500  0.329695\n",
       "6   1.000000  -4.920481  0.333789\n",
       "7   5.000000  -1.482096  0.339249\n",
       "8  10.000000  -0.789931  0.340606"
      ]
     },
     "execution_count": 39,
     "metadata": {},
     "output_type": "execute_result"
    }
   ],
   "source": [
    "results_df = pd.DataFrame(results).sort_values('rmse', ascending=True)\n",
    "results_df"
   ]
  },
  {
   "cell_type": "markdown",
   "id": "38b60e0b",
   "metadata": {},
   "source": [
    "r = 0.01 provides the best rmse"
   ]
  },
  {
   "cell_type": "markdown",
   "id": "0e6e5a18",
   "metadata": {},
   "source": [
    "## Q5\n",
    "- You used seed 42 for splitting the data. Let's find out how selecting the seed influences our score.\n",
    "- Try different seed values: [0, 1, 2, 3, 4, 5, 6, 7, 8, 9].\n",
    "- For each seed, do the train/validation/test split with 60%/20%/20% distribution.\n",
    "- Fill the missing values with 0 and train a model without regularization.\n",
    "- For each seed, evaluate the model on the validation dataset and collect the RMSE scores.\n",
    "- What's the standard deviation of all the scores? To compute the standard deviation, use np.std.\n",
    "- Round the result to 3 decimal digits (round(std, 3))"
   ]
  },
  {
   "cell_type": "code",
   "execution_count": 40,
   "id": "223c094f",
   "metadata": {
    "scrolled": true
   },
   "outputs": [],
   "source": [
    "q5_results = {'seed':[],'rmse':[]}\n",
    "# k = len(data)\n",
    "# k_val = int(0.2*k)\n",
    "# k_test = int(0.2*k)\n",
    "# k_train = k-(k_val+k_test)\n",
    "\n",
    "for seed in [0, 1, 2, 3, 4, 5, 6, 7, 8, 9]:\n",
    "    idx = numpy.arange(k)\n",
    "    numpy.random.seed(seed)\n",
    "    numpy.random.shuffle(idx)\n",
    "    \n",
    "    df_train = data.iloc[idx[:k_train]]\n",
    "    df_val = data.iloc[idx[k_train:k_train+k_val]]\n",
    "    df_test = data.iloc[idx[k_train+k_val:]]\n",
    "    \n",
    "    df_train = df_train.reset_index(drop=True)\n",
    "    df_val = df_val.reset_index(drop=True)\n",
    "    df_test = df_test.reset_index(drop=True)\n",
    "    \n",
    "    y_train = numpy.log1p(df_train.median_house_value.values)\n",
    "    y_val = numpy.log1p(df_val.median_house_value.values)\n",
    "    y_test = numpy.log1p(df_test.median_house_value.values)\n",
    "    \n",
    "    del df_train['median_house_value']\n",
    "    del df_val['median_house_value'] \n",
    "    del df_test['median_house_value']\n",
    "    \n",
    "    X_train = prepare_X_0(df_train)\n",
    "    X_val = prepare_X_0(df_val)\n",
    "    \n",
    "    w0,w = train_linear_regression(X_train,y_train)\n",
    "    y_pred = w0 + X_val.dot(w)\n",
    "    se = (y_val-y_pred)**2\n",
    "    mse = se.mean()\n",
    "    rmse = numpy.sqrt(mse)\n",
    "    \n",
    "    q5_results['seed'].append(seed)\n",
    "    q5_results['rmse'].append(rmse)"
   ]
  },
  {
   "cell_type": "code",
   "execution_count": 41,
   "id": "eff0eb7b",
   "metadata": {},
   "outputs": [
    {
     "data": {
      "text/html": [
       "<div>\n",
       "<style scoped>\n",
       "    .dataframe tbody tr th:only-of-type {\n",
       "        vertical-align: middle;\n",
       "    }\n",
       "\n",
       "    .dataframe tbody tr th {\n",
       "        vertical-align: top;\n",
       "    }\n",
       "\n",
       "    .dataframe thead th {\n",
       "        text-align: right;\n",
       "    }\n",
       "</style>\n",
       "<table border=\"1\" class=\"dataframe\">\n",
       "  <thead>\n",
       "    <tr style=\"text-align: right;\">\n",
       "      <th></th>\n",
       "      <th>seed</th>\n",
       "      <th>rmse</th>\n",
       "    </tr>\n",
       "  </thead>\n",
       "  <tbody>\n",
       "    <tr>\n",
       "      <th>2</th>\n",
       "      <td>2</td>\n",
       "      <td>0.332091</td>\n",
       "    </tr>\n",
       "    <tr>\n",
       "      <th>1</th>\n",
       "      <td>1</td>\n",
       "      <td>0.336239</td>\n",
       "    </tr>\n",
       "    <tr>\n",
       "      <th>9</th>\n",
       "      <td>9</td>\n",
       "      <td>0.336593</td>\n",
       "    </tr>\n",
       "    <tr>\n",
       "      <th>0</th>\n",
       "      <td>0</td>\n",
       "      <td>0.338843</td>\n",
       "    </tr>\n",
       "    <tr>\n",
       "      <th>4</th>\n",
       "      <td>4</td>\n",
       "      <td>0.338902</td>\n",
       "    </tr>\n",
       "    <tr>\n",
       "      <th>7</th>\n",
       "      <td>7</td>\n",
       "      <td>0.339599</td>\n",
       "    </tr>\n",
       "    <tr>\n",
       "      <th>3</th>\n",
       "      <td>3</td>\n",
       "      <td>0.340515</td>\n",
       "    </tr>\n",
       "    <tr>\n",
       "      <th>5</th>\n",
       "      <td>5</td>\n",
       "      <td>0.343487</td>\n",
       "    </tr>\n",
       "    <tr>\n",
       "      <th>6</th>\n",
       "      <td>6</td>\n",
       "      <td>0.345198</td>\n",
       "    </tr>\n",
       "    <tr>\n",
       "      <th>8</th>\n",
       "      <td>8</td>\n",
       "      <td>0.346623</td>\n",
       "    </tr>\n",
       "  </tbody>\n",
       "</table>\n",
       "</div>"
      ],
      "text/plain": [
       "   seed      rmse\n",
       "2     2  0.332091\n",
       "1     1  0.336239\n",
       "9     9  0.336593\n",
       "0     0  0.338843\n",
       "4     4  0.338902\n",
       "7     7  0.339599\n",
       "3     3  0.340515\n",
       "5     5  0.343487\n",
       "6     6  0.345198\n",
       "8     8  0.346623"
      ]
     },
     "execution_count": 41,
     "metadata": {},
     "output_type": "execute_result"
    }
   ],
   "source": [
    "q5_results_df = pd.DataFrame(q5_results).sort_values('rmse')\n",
    "q5_results_df"
   ]
  },
  {
   "cell_type": "code",
   "execution_count": 45,
   "id": "abfdba37",
   "metadata": {},
   "outputs": [
    {
     "data": {
      "text/plain": [
       "0.004"
      ]
     },
     "execution_count": 45,
     "metadata": {},
     "output_type": "execute_result"
    }
   ],
   "source": [
    "round(numpy.std(q5_results_df.rmse.values),3)"
   ]
  },
  {
   "cell_type": "markdown",
   "id": "4988c66b",
   "metadata": {},
   "source": [
    "The standard deviation is close to 0.005"
   ]
  },
  {
   "cell_type": "markdown",
   "id": "ce1012d7",
   "metadata": {},
   "source": [
    "## Q6\n",
    "- Split the dataset like previously, use seed 9.\n",
    "- Combine train and validation datasets.\n",
    "- Fill the missing values with 0 and train a model with r=0.001.\n",
    "- What's the RMSE on the test dataset?\n",
    "\n",
    "__Options__:\n",
    "- 0.35\n",
    "- 0.135\n",
    "- 0.450\n",
    "- 0.245"
   ]
  },
  {
   "cell_type": "code",
   "execution_count": 44,
   "id": "37dd4905",
   "metadata": {},
   "outputs": [
    {
     "name": "stdout",
     "output_type": "stream",
     "text": [
      "0.34531689143657907\n"
     ]
    }
   ],
   "source": [
    "idx = numpy.arange(k)\n",
    "numpy.random.seed(9)\n",
    "numpy.random.shuffle(idx)\n",
    "\n",
    "df_train = data.iloc[idx[:k_train]]\n",
    "df_val = data.iloc[idx[k_train:k_train+k_val]]\n",
    "df_test = data.iloc[idx[k_train+k_val:]]\n",
    "\n",
    "df_train = df_train.reset_index(drop=True)\n",
    "df_val = df_val.reset_index(drop=True)\n",
    "df_test = df_test.reset_index(drop=True)\n",
    "\n",
    "y_train = numpy.log1p(df_train.median_house_value.values)\n",
    "y_val = numpy.log1p(df_val.median_house_value.values)\n",
    "y_test = numpy.log1p(df_test.median_house_value.values)\n",
    "\n",
    "del df_train['median_house_value']\n",
    "del df_val['median_house_value'] \n",
    "del df_test['median_house_value']\n",
    "\n",
    "X_train = prepare_X_0(df_train)\n",
    "X_val = prepare_X_0(df_val)\n",
    "X_test = prepare_X_0(df_test)\n",
    "\n",
    "X_train_full = numpy.concatenate([X_train,X_val],axis= 0)\n",
    "y_train_full = numpy.concatenate([y_train,y_val],axis= 0)\n",
    "\n",
    "\n",
    "w0,w = train_linear_regression_reg(X_train_full,y_train_full,0.001)\n",
    "y_pred = w0 + X_test.dot(w)\n",
    "se = (y_test-y_pred)**2\n",
    "mse = se.mean()\n",
    "rmse = numpy.sqrt(mse)\n",
    "print(rmse)"
   ]
  },
  {
   "cell_type": "markdown",
   "id": "e56da4b0",
   "metadata": {},
   "source": [
    "The rmse is close to 0.35"
   ]
  }
 ],
 "metadata": {
  "kernelspec": {
   "display_name": "data_analysis",
   "language": "python",
   "name": "data_analysis"
  },
  "language_info": {
   "codemirror_mode": {
    "name": "ipython",
    "version": 3
   },
   "file_extension": ".py",
   "mimetype": "text/x-python",
   "name": "python",
   "nbconvert_exporter": "python",
   "pygments_lexer": "ipython3",
   "version": "3.9.5"
  }
 },
 "nbformat": 4,
 "nbformat_minor": 5
}
